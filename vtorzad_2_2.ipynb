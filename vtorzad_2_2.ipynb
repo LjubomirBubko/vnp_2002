{
  "nbformat": 4,
  "nbformat_minor": 0,
  "metadata": {
    "colab": {
      "provenance": []
    },
    "kernelspec": {
      "name": "python3",
      "display_name": "Python 3"
    },
    "language_info": {
      "name": "python"
    }
  },
  "cells": [
    {
      "cell_type": "markdown",
      "source": [
        "# Задача 2"
      ],
      "metadata": {
        "id": "3Nd2bvUDJ5OU"
      }
    },
    {
      "cell_type": "markdown",
      "source": [
        "## Симнете го податочното множество\n",
        "\n",
        "*извршете го овој блок, т.ш. ќе ја замените **ID вредноста** со таа која ви е дадена во текстот на задачата*\n",
        "\n",
        "***пример:***\n",
        "\n",
        "*!gdown 787ahjg6*\n",
        "\n"
      ],
      "metadata": {
        "id": "Edqmy0_uk1vi"
      }
    },
    {
      "cell_type": "code",
      "source": [
        "#TODO: Replace the ID value with the actual ID number you are given in the task description!\n",
        "!gdown 1EqyDLxNFFiFD_aT0hoJC2Q4Hr0yMOr3D"
      ],
      "metadata": {
        "id": "8M7AW8T6lFY_",
        "outputId": "3123a49e-6f0b-449a-89fd-1ede6526b0c3",
        "colab": {
          "base_uri": "https://localhost:8080/"
        }
      },
      "execution_count": null,
      "outputs": [
        {
          "output_type": "stream",
          "name": "stdout",
          "text": [
            "Downloading...\n",
            "From: https://drive.google.com/uc?id=1EqyDLxNFFiFD_aT0hoJC2Q4Hr0yMOr3D\n",
            "To: /content/nasa_asteroids.csv\n",
            "\r  0% 0.00/2.27M [00:00<?, ?B/s]\r100% 2.27M/2.27M [00:00<00:00, 176MB/s]\n"
          ]
        }
      ]
    },
    {
      "cell_type": "markdown",
      "source": [
        "*Доколку не можете да го вчитате податочното множество, ставете **encoding='cp1252'**.*"
      ],
      "metadata": {
        "id": "qJ1K_CtSI3R4"
      }
    },
    {
      "cell_type": "code",
      "source": [
        "import pandas as pd\n",
        "df = pd.read_csv('/content/nasa_asteroids.csv')\n",
        "df.head()"
      ],
      "metadata": {
        "id": "qP1oSqFx2EPs",
        "outputId": "890f1bc8-b74b-47c0-9bb6-e6d9a0e31856",
        "colab": {
          "base_uri": "https://localhost:8080/",
          "height": 314
        }
      },
      "execution_count": null,
      "outputs": [
        {
          "output_type": "execute_result",
          "data": {
            "text/plain": [
              "   Unnamed: 0  Unnamed: 0.1  Neo Reference ID     Name  Absolute Magnitude  \\\n",
              "0           0             0           3703080  3703080                 NaN   \n",
              "1           1             1           3723955  3723955                21.3   \n",
              "2           2             2           2446862  2446862                20.3   \n",
              "3           3             3           3092506  3092506                27.4   \n",
              "4           4             4           3514799  3514799                21.6   \n",
              "\n",
              "   Est Dia in KM(min)  Est Dia in KM(max)  Est Dia in M(min)  \\\n",
              "0            0.127220            0.284472         127.219879   \n",
              "1            0.146068            0.326618         146.067964   \n",
              "2            0.231502            0.517654         231.502122   \n",
              "3            0.008801            0.019681           8.801465   \n",
              "4            0.127220            0.284472         127.219879   \n",
              "\n",
              "   Est Dia in M(max)  Est Dia in Miles(min)  ...  Inclination  \\\n",
              "0         284.472297               0.079051  ...     6.025981   \n",
              "1         326.617897               0.090762  ...    28.412996   \n",
              "2         517.654482               0.143849  ...     4.237961   \n",
              "3          19.680675               0.005469  ...     7.905894   \n",
              "4         284.472297               0.079051  ...    16.793382   \n",
              "\n",
              "   Asc Node Longitude  Orbital Period  Perihelion Distance  Perihelion Arg  \\\n",
              "0                 NaN             NaN             0.808259       57.257470   \n",
              "1          136.717242      425.869294             0.718200      313.091975   \n",
              "2          259.475979      643.580228             0.950791      248.415038   \n",
              "3           57.173266      514.082140             0.983902       18.707701   \n",
              "4           84.629307      495.597821             0.967687      158.263596   \n",
              "\n",
              "   Aphelion Dist  Perihelion Time  Mean Anomaly  Mean Motion  Hazardous  \n",
              "0       2.005764              NaN    264.837533     0.590551       True  \n",
              "1       1.497352     2.457795e+06    173.741112     0.845330      False  \n",
              "2       1.966857     2.458120e+06    292.893654     0.559371       True  \n",
              "3       1.527904     2.457902e+06     68.741007     0.700277      False  \n",
              "4       1.483543     2.457814e+06    135.142133     0.726395       True  \n",
              "\n",
              "[5 rows x 38 columns]"
            ],
            "text/html": [
              "\n",
              "  <div id=\"df-c31c4bb8-a114-4d57-b9e3-a19bd0f4e5be\">\n",
              "    <div class=\"colab-df-container\">\n",
              "      <div>\n",
              "<style scoped>\n",
              "    .dataframe tbody tr th:only-of-type {\n",
              "        vertical-align: middle;\n",
              "    }\n",
              "\n",
              "    .dataframe tbody tr th {\n",
              "        vertical-align: top;\n",
              "    }\n",
              "\n",
              "    .dataframe thead th {\n",
              "        text-align: right;\n",
              "    }\n",
              "</style>\n",
              "<table border=\"1\" class=\"dataframe\">\n",
              "  <thead>\n",
              "    <tr style=\"text-align: right;\">\n",
              "      <th></th>\n",
              "      <th>Unnamed: 0</th>\n",
              "      <th>Unnamed: 0.1</th>\n",
              "      <th>Neo Reference ID</th>\n",
              "      <th>Name</th>\n",
              "      <th>Absolute Magnitude</th>\n",
              "      <th>Est Dia in KM(min)</th>\n",
              "      <th>Est Dia in KM(max)</th>\n",
              "      <th>Est Dia in M(min)</th>\n",
              "      <th>Est Dia in M(max)</th>\n",
              "      <th>Est Dia in Miles(min)</th>\n",
              "      <th>...</th>\n",
              "      <th>Inclination</th>\n",
              "      <th>Asc Node Longitude</th>\n",
              "      <th>Orbital Period</th>\n",
              "      <th>Perihelion Distance</th>\n",
              "      <th>Perihelion Arg</th>\n",
              "      <th>Aphelion Dist</th>\n",
              "      <th>Perihelion Time</th>\n",
              "      <th>Mean Anomaly</th>\n",
              "      <th>Mean Motion</th>\n",
              "      <th>Hazardous</th>\n",
              "    </tr>\n",
              "  </thead>\n",
              "  <tbody>\n",
              "    <tr>\n",
              "      <th>0</th>\n",
              "      <td>0</td>\n",
              "      <td>0</td>\n",
              "      <td>3703080</td>\n",
              "      <td>3703080</td>\n",
              "      <td>NaN</td>\n",
              "      <td>0.127220</td>\n",
              "      <td>0.284472</td>\n",
              "      <td>127.219879</td>\n",
              "      <td>284.472297</td>\n",
              "      <td>0.079051</td>\n",
              "      <td>...</td>\n",
              "      <td>6.025981</td>\n",
              "      <td>NaN</td>\n",
              "      <td>NaN</td>\n",
              "      <td>0.808259</td>\n",
              "      <td>57.257470</td>\n",
              "      <td>2.005764</td>\n",
              "      <td>NaN</td>\n",
              "      <td>264.837533</td>\n",
              "      <td>0.590551</td>\n",
              "      <td>True</td>\n",
              "    </tr>\n",
              "    <tr>\n",
              "      <th>1</th>\n",
              "      <td>1</td>\n",
              "      <td>1</td>\n",
              "      <td>3723955</td>\n",
              "      <td>3723955</td>\n",
              "      <td>21.3</td>\n",
              "      <td>0.146068</td>\n",
              "      <td>0.326618</td>\n",
              "      <td>146.067964</td>\n",
              "      <td>326.617897</td>\n",
              "      <td>0.090762</td>\n",
              "      <td>...</td>\n",
              "      <td>28.412996</td>\n",
              "      <td>136.717242</td>\n",
              "      <td>425.869294</td>\n",
              "      <td>0.718200</td>\n",
              "      <td>313.091975</td>\n",
              "      <td>1.497352</td>\n",
              "      <td>2.457795e+06</td>\n",
              "      <td>173.741112</td>\n",
              "      <td>0.845330</td>\n",
              "      <td>False</td>\n",
              "    </tr>\n",
              "    <tr>\n",
              "      <th>2</th>\n",
              "      <td>2</td>\n",
              "      <td>2</td>\n",
              "      <td>2446862</td>\n",
              "      <td>2446862</td>\n",
              "      <td>20.3</td>\n",
              "      <td>0.231502</td>\n",
              "      <td>0.517654</td>\n",
              "      <td>231.502122</td>\n",
              "      <td>517.654482</td>\n",
              "      <td>0.143849</td>\n",
              "      <td>...</td>\n",
              "      <td>4.237961</td>\n",
              "      <td>259.475979</td>\n",
              "      <td>643.580228</td>\n",
              "      <td>0.950791</td>\n",
              "      <td>248.415038</td>\n",
              "      <td>1.966857</td>\n",
              "      <td>2.458120e+06</td>\n",
              "      <td>292.893654</td>\n",
              "      <td>0.559371</td>\n",
              "      <td>True</td>\n",
              "    </tr>\n",
              "    <tr>\n",
              "      <th>3</th>\n",
              "      <td>3</td>\n",
              "      <td>3</td>\n",
              "      <td>3092506</td>\n",
              "      <td>3092506</td>\n",
              "      <td>27.4</td>\n",
              "      <td>0.008801</td>\n",
              "      <td>0.019681</td>\n",
              "      <td>8.801465</td>\n",
              "      <td>19.680675</td>\n",
              "      <td>0.005469</td>\n",
              "      <td>...</td>\n",
              "      <td>7.905894</td>\n",
              "      <td>57.173266</td>\n",
              "      <td>514.082140</td>\n",
              "      <td>0.983902</td>\n",
              "      <td>18.707701</td>\n",
              "      <td>1.527904</td>\n",
              "      <td>2.457902e+06</td>\n",
              "      <td>68.741007</td>\n",
              "      <td>0.700277</td>\n",
              "      <td>False</td>\n",
              "    </tr>\n",
              "    <tr>\n",
              "      <th>4</th>\n",
              "      <td>4</td>\n",
              "      <td>4</td>\n",
              "      <td>3514799</td>\n",
              "      <td>3514799</td>\n",
              "      <td>21.6</td>\n",
              "      <td>0.127220</td>\n",
              "      <td>0.284472</td>\n",
              "      <td>127.219879</td>\n",
              "      <td>284.472297</td>\n",
              "      <td>0.079051</td>\n",
              "      <td>...</td>\n",
              "      <td>16.793382</td>\n",
              "      <td>84.629307</td>\n",
              "      <td>495.597821</td>\n",
              "      <td>0.967687</td>\n",
              "      <td>158.263596</td>\n",
              "      <td>1.483543</td>\n",
              "      <td>2.457814e+06</td>\n",
              "      <td>135.142133</td>\n",
              "      <td>0.726395</td>\n",
              "      <td>True</td>\n",
              "    </tr>\n",
              "  </tbody>\n",
              "</table>\n",
              "<p>5 rows × 38 columns</p>\n",
              "</div>\n",
              "      <button class=\"colab-df-convert\" onclick=\"convertToInteractive('df-c31c4bb8-a114-4d57-b9e3-a19bd0f4e5be')\"\n",
              "              title=\"Convert this dataframe to an interactive table.\"\n",
              "              style=\"display:none;\">\n",
              "        \n",
              "  <svg xmlns=\"http://www.w3.org/2000/svg\" height=\"24px\"viewBox=\"0 0 24 24\"\n",
              "       width=\"24px\">\n",
              "    <path d=\"M0 0h24v24H0V0z\" fill=\"none\"/>\n",
              "    <path d=\"M18.56 5.44l.94 2.06.94-2.06 2.06-.94-2.06-.94-.94-2.06-.94 2.06-2.06.94zm-11 1L8.5 8.5l.94-2.06 2.06-.94-2.06-.94L8.5 2.5l-.94 2.06-2.06.94zm10 10l.94 2.06.94-2.06 2.06-.94-2.06-.94-.94-2.06-.94 2.06-2.06.94z\"/><path d=\"M17.41 7.96l-1.37-1.37c-.4-.4-.92-.59-1.43-.59-.52 0-1.04.2-1.43.59L10.3 9.45l-7.72 7.72c-.78.78-.78 2.05 0 2.83L4 21.41c.39.39.9.59 1.41.59.51 0 1.02-.2 1.41-.59l7.78-7.78 2.81-2.81c.8-.78.8-2.07 0-2.86zM5.41 20L4 18.59l7.72-7.72 1.47 1.35L5.41 20z\"/>\n",
              "  </svg>\n",
              "      </button>\n",
              "      \n",
              "  <style>\n",
              "    .colab-df-container {\n",
              "      display:flex;\n",
              "      flex-wrap:wrap;\n",
              "      gap: 12px;\n",
              "    }\n",
              "\n",
              "    .colab-df-convert {\n",
              "      background-color: #E8F0FE;\n",
              "      border: none;\n",
              "      border-radius: 50%;\n",
              "      cursor: pointer;\n",
              "      display: none;\n",
              "      fill: #1967D2;\n",
              "      height: 32px;\n",
              "      padding: 0 0 0 0;\n",
              "      width: 32px;\n",
              "    }\n",
              "\n",
              "    .colab-df-convert:hover {\n",
              "      background-color: #E2EBFA;\n",
              "      box-shadow: 0px 1px 2px rgba(60, 64, 67, 0.3), 0px 1px 3px 1px rgba(60, 64, 67, 0.15);\n",
              "      fill: #174EA6;\n",
              "    }\n",
              "\n",
              "    [theme=dark] .colab-df-convert {\n",
              "      background-color: #3B4455;\n",
              "      fill: #D2E3FC;\n",
              "    }\n",
              "\n",
              "    [theme=dark] .colab-df-convert:hover {\n",
              "      background-color: #434B5C;\n",
              "      box-shadow: 0px 1px 3px 1px rgba(0, 0, 0, 0.15);\n",
              "      filter: drop-shadow(0px 1px 2px rgba(0, 0, 0, 0.3));\n",
              "      fill: #FFFFFF;\n",
              "    }\n",
              "  </style>\n",
              "\n",
              "      <script>\n",
              "        const buttonEl =\n",
              "          document.querySelector('#df-c31c4bb8-a114-4d57-b9e3-a19bd0f4e5be button.colab-df-convert');\n",
              "        buttonEl.style.display =\n",
              "          google.colab.kernel.accessAllowed ? 'block' : 'none';\n",
              "\n",
              "        async function convertToInteractive(key) {\n",
              "          const element = document.querySelector('#df-c31c4bb8-a114-4d57-b9e3-a19bd0f4e5be');\n",
              "          const dataTable =\n",
              "            await google.colab.kernel.invokeFunction('convertToInteractive',\n",
              "                                                     [key], {});\n",
              "          if (!dataTable) return;\n",
              "\n",
              "          const docLinkHtml = 'Like what you see? Visit the ' +\n",
              "            '<a target=\"_blank\" href=https://colab.research.google.com/notebooks/data_table.ipynb>data table notebook</a>'\n",
              "            + ' to learn more about interactive tables.';\n",
              "          element.innerHTML = '';\n",
              "          dataTable['output_type'] = 'display_data';\n",
              "          await google.colab.output.renderOutput(dataTable, element);\n",
              "          const docLink = document.createElement('div');\n",
              "          docLink.innerHTML = docLinkHtml;\n",
              "          element.appendChild(docLink);\n",
              "        }\n",
              "      </script>\n",
              "    </div>\n",
              "  </div>\n",
              "  "
            ]
          },
          "metadata": {},
          "execution_count": 2
        }
      ]
    },
    {
      "cell_type": "code",
      "source": [
        "df.info()"
      ],
      "metadata": {
        "id": "JTXrI5iB2auH",
        "outputId": "061dd238-ce63-4ae1-c8e1-7849ddad3cbe",
        "colab": {
          "base_uri": "https://localhost:8080/"
        }
      },
      "execution_count": null,
      "outputs": [
        {
          "output_type": "stream",
          "name": "stdout",
          "text": [
            "<class 'pandas.core.frame.DataFrame'>\n",
            "RangeIndex: 4687 entries, 0 to 4686\n",
            "Data columns (total 38 columns):\n",
            " #   Column                        Non-Null Count  Dtype  \n",
            "---  ------                        --------------  -----  \n",
            " 0   Unnamed: 0                    4687 non-null   int64  \n",
            " 1   Unnamed: 0.1                  4687 non-null   int64  \n",
            " 2   Neo Reference ID              4687 non-null   int64  \n",
            " 3   Name                          4687 non-null   int64  \n",
            " 4   Absolute Magnitude            4260 non-null   float64\n",
            " 5   Est Dia in KM(min)            4687 non-null   float64\n",
            " 6   Est Dia in KM(max)            4687 non-null   float64\n",
            " 7   Est Dia in M(min)             4687 non-null   float64\n",
            " 8   Est Dia in M(max)             4687 non-null   float64\n",
            " 9   Est Dia in Miles(min)         4687 non-null   float64\n",
            " 10  Est Dia in Miles(max)         4687 non-null   float64\n",
            " 11  Est Dia in Feet(min)          4687 non-null   float64\n",
            " 12  Est Dia in Feet(max)          4687 non-null   float64\n",
            " 13  Epoch Date Close Approach     4687 non-null   int64  \n",
            " 14  Relative Velocity km per sec  4687 non-null   float64\n",
            " 15  Relative Velocity km per hr   4687 non-null   float64\n",
            " 16  Miles per hour                4687 non-null   float64\n",
            " 17  Miss Dist.(Astronomical)      4687 non-null   float64\n",
            " 18  Miss Dist.(lunar)             4687 non-null   float64\n",
            " 19  Miss Dist.(kilometers)        4687 non-null   float64\n",
            " 20  Miss Dist.(miles)             4687 non-null   float64\n",
            " 21  Orbit ID                      4687 non-null   int64  \n",
            " 22  Orbit Uncertainity            4687 non-null   int64  \n",
            " 23  Minimum Orbit Intersection    4687 non-null   float64\n",
            " 24  Jupiter Tisserand Invariant   4687 non-null   float64\n",
            " 25  Epoch Osculation              4687 non-null   float64\n",
            " 26  Eccentricity                  4687 non-null   float64\n",
            " 27  Semi Major Axis               4687 non-null   float64\n",
            " 28  Inclination                   4687 non-null   float64\n",
            " 29  Asc Node Longitude            4452 non-null   float64\n",
            " 30  Orbital Period                4374 non-null   float64\n",
            " 31  Perihelion Distance           4687 non-null   float64\n",
            " 32  Perihelion Arg                4687 non-null   float64\n",
            " 33  Aphelion Dist                 4687 non-null   float64\n",
            " 34  Perihelion Time               4411 non-null   float64\n",
            " 35  Mean Anomaly                  4687 non-null   float64\n",
            " 36  Mean Motion                   4687 non-null   float64\n",
            " 37  Hazardous                     4687 non-null   bool   \n",
            "dtypes: bool(1), float64(30), int64(7)\n",
            "memory usage: 1.3 MB\n"
          ]
        }
      ]
    },
    {
      "cell_type": "markdown",
      "source": [
        "## Направете визуелизација на таргет колоната"
      ],
      "metadata": {
        "id": "2bk0gOvwluvi"
      }
    },
    {
      "cell_type": "code",
      "source": [
        "df['Hazardous'].astype(int).hist()"
      ],
      "metadata": {
        "id": "PVlxGi0sly5a",
        "outputId": "91ec89c0-8aec-40db-e300-c02e71a64ca9",
        "colab": {
          "base_uri": "https://localhost:8080/",
          "height": 282
        }
      },
      "execution_count": null,
      "outputs": [
        {
          "output_type": "execute_result",
          "data": {
            "text/plain": [
              "<matplotlib.axes._subplots.AxesSubplot at 0x7fb5245f5a90>"
            ]
          },
          "metadata": {},
          "execution_count": 4
        },
        {
          "output_type": "display_data",
          "data": {
            "text/plain": [
              "<Figure size 432x288 with 1 Axes>"
            ],
            "image/png": "[encoded data removed]"
          },
          "metadata": {
            "needs_background": "light"
          }
        }
      ]
    },
    {
      "cell_type": "markdown",
      "source": [
        "## Направете различни статистики за колоните"
      ],
      "metadata": {
        "id": "HUuab69Jlzq4"
      }
    },
    {
      "cell_type": "code",
      "source": [
        "df.describe()"
      ],
      "metadata": {
        "id": "bz4-_v1kl3xX",
        "outputId": "3c8442b2-8b55-419c-e6ed-2ab818582ce4",
        "colab": {
          "base_uri": "https://localhost:8080/",
          "height": 428
        }
      },
      "execution_count": null,
      "outputs": [
        {
          "output_type": "execute_result",
          "data": {
            "text/plain": [
              "        Unnamed: 0  Unnamed: 0.1  Neo Reference ID          Name  \\\n",
              "count  4687.000000   4687.000000      4.687000e+03  4.687000e+03   \n",
              "mean   2343.000000   2343.000000      3.272298e+06  3.272298e+06   \n",
              "std    1353.164686   1353.164686      5.486011e+05  5.486011e+05   \n",
              "min       0.000000      0.000000      2.000433e+06  2.000433e+06   \n",
              "25%    1171.500000   1171.500000      3.097594e+06  3.097594e+06   \n",
              "50%    2343.000000   2343.000000      3.514799e+06  3.514799e+06   \n",
              "75%    3514.500000   3514.500000      3.690060e+06  3.690060e+06   \n",
              "max    4686.000000   4686.000000      3.781897e+06  3.781897e+06   \n",
              "\n",
              "       Absolute Magnitude  Est Dia in KM(min)  Est Dia in KM(max)  \\\n",
              "count         4260.000000         4687.000000         4687.000000   \n",
              "mean            22.254069            0.204604            0.457509   \n",
              "std              2.877128            0.369573            0.826391   \n",
              "min             13.920000            0.001011            0.002260   \n",
              "25%             20.100000            0.033462            0.074824   \n",
              "50%             21.900000            0.110804            0.247765   \n",
              "75%             24.500000            0.253837            0.567597   \n",
              "max             32.100000           15.579552           34.836938   \n",
              "\n",
              "       Est Dia in M(min)  Est Dia in M(max)  Est Dia in Miles(min)  ...  \\\n",
              "count        4687.000000        4687.000000            4687.000000  ...   \n",
              "mean          204.604203         457.508906               0.127135  ...   \n",
              "std           369.573402         826.391249               0.229642  ...   \n",
              "min             1.010543           2.259644               0.000628  ...   \n",
              "25%            33.462237          74.823838               0.020792  ...   \n",
              "50%           110.803882         247.765013               0.068850  ...   \n",
              "75%           253.837029         567.596853               0.157727  ...   \n",
              "max         15579.552413       34836.938254               9.680682  ...   \n",
              "\n",
              "       Semi Major Axis  Inclination  Asc Node Longitude  Orbital Period  \\\n",
              "count      4687.000000  4687.000000         4452.000000     4374.000000   \n",
              "mean          1.400264    13.373844          172.051773      635.739916   \n",
              "std           0.524154    10.936227          103.377837      372.703547   \n",
              "min           0.615920     0.014513            0.001941      176.557161   \n",
              "25%           1.000635     4.962341           82.662095      363.619547   \n",
              "50%           1.240981    10.311836          172.707107      504.061471   \n",
              "75%           1.678364    19.511681          254.953644      795.626233   \n",
              "max           5.072008    75.406667          359.905890     4172.231343   \n",
              "\n",
              "       Perihelion Distance  Perihelion Arg  Aphelion Dist  Perihelion Time  \\\n",
              "count          4687.000000     4687.000000    4687.000000     4.411000e+03   \n",
              "mean              0.813383      183.932151       1.987144     2.457723e+06   \n",
              "std               0.242059      103.513035       0.951519     9.559125e+02   \n",
              "min               0.080744        0.006918       0.803765     2.450100e+06   \n",
              "25%               0.630834       95.625916       1.266059     2.457814e+06   \n",
              "50%               0.833153      189.761641       1.618195     2.457973e+06   \n",
              "75%               0.997227      271.777557       2.451171     2.458108e+06   \n",
              "max               1.299832      359.993098       8.983852     2.458839e+06   \n",
              "\n",
              "       Mean Anomaly  Mean Motion  \n",
              "count   4687.000000  4687.000000  \n",
              "mean     181.167927     0.738242  \n",
              "std      107.501623     0.342627  \n",
              "min        0.003191     0.086285  \n",
              "25%       87.006918     0.453289  \n",
              "50%      185.718889     0.712946  \n",
              "75%      276.531946     0.984669  \n",
              "max      359.917991     2.039000  \n",
              "\n",
              "[8 rows x 37 columns]"
            ],
            "text/html": [
              "\n",
              "  <div id=\"df-68dace60-12f7-49a5-a243-12a3f016ac04\">\n",
              "    <div class=\"colab-df-container\">\n",
              "      <div>\n",
              "<style scoped>\n",
              "    .dataframe tbody tr th:only-of-type {\n",
              "        vertical-align: middle;\n",
              "    }\n",
              "\n",
              "    .dataframe tbody tr th {\n",
              "        vertical-align: top;\n",
              "    }\n",
              "\n",
              "    .dataframe thead th {\n",
              "        text-align: right;\n",
              "    }\n",
              "</style>\n",
              "<table border=\"1\" class=\"dataframe\">\n",
              "  <thead>\n",
              "    <tr style=\"text-align: right;\">\n",
              "      <th></th>\n",
              "      <th>Unnamed: 0</th>\n",
              "      <th>Unnamed: 0.1</th>\n",
              "      <th>Neo Reference ID</th>\n",
              "      <th>Name</th>\n",
              "      <th>Absolute Magnitude</th>\n",
              "      <th>Est Dia in KM(min)</th>\n",
              "      <th>Est Dia in KM(max)</th>\n",
              "      <th>Est Dia in M(min)</th>\n",
              "      <th>Est Dia in M(max)</th>\n",
              "      <th>Est Dia in Miles(min)</th>\n",
              "      <th>...</th>\n",
              "      <th>Semi Major Axis</th>\n",
              "      <th>Inclination</th>\n",
              "      <th>Asc Node Longitude</th>\n",
              "      <th>Orbital Period</th>\n",
              "      <th>Perihelion Distance</th>\n",
              "      <th>Perihelion Arg</th>\n",
              "      <th>Aphelion Dist</th>\n",
              "      <th>Perihelion Time</th>\n",
              "      <th>Mean Anomaly</th>\n",
              "      <th>Mean Motion</th>\n",
              "    </tr>\n",
              "  </thead>\n",
              "  <tbody>\n",
              "    <tr>\n",
              "      <th>count</th>\n",
              "      <td>4687.000000</td>\n",
              "      <td>4687.000000</td>\n",
              "      <td>4.687000e+03</td>\n",
              "      <td>4.687000e+03</td>\n",
              "      <td>4260.000000</td>\n",
              "      <td>4687.000000</td>\n",
              "      <td>4687.000000</td>\n",
              "      <td>4687.000000</td>\n",
              "      <td>4687.000000</td>\n",
              "      <td>4687.000000</td>\n",
              "      <td>...</td>\n",
              "      <td>4687.000000</td>\n",
              "      <td>4687.000000</td>\n",
              "      <td>4452.000000</td>\n",
              "      <td>4374.000000</td>\n",
              "      <td>4687.000000</td>\n",
              "      <td>4687.000000</td>\n",
              "      <td>4687.000000</td>\n",
              "      <td>4.411000e+03</td>\n",
              "      <td>4687.000000</td>\n",
              "      <td>4687.000000</td>\n",
              "    </tr>\n",
              "    <tr>\n",
              "      <th>mean</th>\n",
              "      <td>2343.000000</td>\n",
              "      <td>2343.000000</td>\n",
              "      <td>3.272298e+06</td>\n",
              "      <td>3.272298e+06</td>\n",
              "      <td>22.254069</td>\n",
              "      <td>0.204604</td>\n",
              "      <td>0.457509</td>\n",
              "      <td>204.604203</td>\n",
              "      <td>457.508906</td>\n",
              "      <td>0.127135</td>\n",
              "      <td>...</td>\n",
              "      <td>1.400264</td>\n",
              "      <td>13.373844</td>\n",
              "      <td>172.051773</td>\n",
              "      <td>635.739916</td>\n",
              "      <td>0.813383</td>\n",
              "      <td>183.932151</td>\n",
              "      <td>1.987144</td>\n",
              "      <td>2.457723e+06</td>\n",
              "      <td>181.167927</td>\n",
              "      <td>0.738242</td>\n",
              "    </tr>\n",
              "    <tr>\n",
              "      <th>std</th>\n",
              "      <td>1353.164686</td>\n",
              "      <td>1353.164686</td>\n",
              "      <td>5.486011e+05</td>\n",
              "      <td>5.486011e+05</td>\n",
              "      <td>2.877128</td>\n",
              "      <td>0.369573</td>\n",
              "      <td>0.826391</td>\n",
              "      <td>369.573402</td>\n",
              "      <td>826.391249</td>\n",
              "      <td>0.229642</td>\n",
              "      <td>...</td>\n",
              "      <td>0.524154</td>\n",
              "      <td>10.936227</td>\n",
              "      <td>103.377837</td>\n",
              "      <td>372.703547</td>\n",
              "      <td>0.242059</td>\n",
              "      <td>103.513035</td>\n",
              "      <td>0.951519</td>\n",
              "      <td>9.559125e+02</td>\n",
              "      <td>107.501623</td>\n",
              "      <td>0.342627</td>\n",
              "    </tr>\n",
              "    <tr>\n",
              "      <th>min</th>\n",
              "      <td>0.000000</td>\n",
              "      <td>0.000000</td>\n",
              "      <td>2.000433e+06</td>\n",
              "      <td>2.000433e+06</td>\n",
              "      <td>13.920000</td>\n",
              "      <td>0.001011</td>\n",
              "      <td>0.002260</td>\n",
              "      <td>1.010543</td>\n",
              "      <td>2.259644</td>\n",
              "      <td>0.000628</td>\n",
              "      <td>...</td>\n",
              "      <td>0.615920</td>\n",
              "      <td>0.014513</td>\n",
              "      <td>0.001941</td>\n",
              "      <td>176.557161</td>\n",
              "      <td>0.080744</td>\n",
              "      <td>0.006918</td>\n",
              "      <td>0.803765</td>\n",
              "      <td>2.450100e+06</td>\n",
              "      <td>0.003191</td>\n",
              "      <td>0.086285</td>\n",
              "    </tr>\n",
              "    <tr>\n",
              "      <th>25%</th>\n",
              "      <td>1171.500000</td>\n",
              "      <td>1171.500000</td>\n",
              "      <td>3.097594e+06</td>\n",
              "      <td>3.097594e+06</td>\n",
              "      <td>20.100000</td>\n",
              "      <td>0.033462</td>\n",
              "      <td>0.074824</td>\n",
              "      <td>33.462237</td>\n",
              "      <td>74.823838</td>\n",
              "      <td>0.020792</td>\n",
              "      <td>...</td>\n",
              "      <td>1.000635</td>\n",
              "      <td>4.962341</td>\n",
              "      <td>82.662095</td>\n",
              "      <td>363.619547</td>\n",
              "      <td>0.630834</td>\n",
              "      <td>95.625916</td>\n",
              "      <td>1.266059</td>\n",
              "      <td>2.457814e+06</td>\n",
              "      <td>87.006918</td>\n",
              "      <td>0.453289</td>\n",
              "    </tr>\n",
              "    <tr>\n",
              "      <th>50%</th>\n",
              "      <td>2343.000000</td>\n",
              "      <td>2343.000000</td>\n",
              "      <td>3.514799e+06</td>\n",
              "      <td>3.514799e+06</td>\n",
              "      <td>21.900000</td>\n",
              "      <td>0.110804</td>\n",
              "      <td>0.247765</td>\n",
              "      <td>110.803882</td>\n",
              "      <td>247.765013</td>\n",
              "      <td>0.068850</td>\n",
              "      <td>...</td>\n",
              "      <td>1.240981</td>\n",
              "      <td>10.311836</td>\n",
              "      <td>172.707107</td>\n",
              "      <td>504.061471</td>\n",
              "      <td>0.833153</td>\n",
              "      <td>189.761641</td>\n",
              "      <td>1.618195</td>\n",
              "      <td>2.457973e+06</td>\n",
              "      <td>185.718889</td>\n",
              "      <td>0.712946</td>\n",
              "    </tr>\n",
              "    <tr>\n",
              "      <th>75%</th>\n",
              "      <td>3514.500000</td>\n",
              "      <td>3514.500000</td>\n",
              "      <td>3.690060e+06</td>\n",
              "      <td>3.690060e+06</td>\n",
              "      <td>24.500000</td>\n",
              "      <td>0.253837</td>\n",
              "      <td>0.567597</td>\n",
              "      <td>253.837029</td>\n",
              "      <td>567.596853</td>\n",
              "      <td>0.157727</td>\n",
              "      <td>...</td>\n",
              "      <td>1.678364</td>\n",
              "      <td>19.511681</td>\n",
              "      <td>254.953644</td>\n",
              "      <td>795.626233</td>\n",
              "      <td>0.997227</td>\n",
              "      <td>271.777557</td>\n",
              "      <td>2.451171</td>\n",
              "      <td>2.458108e+06</td>\n",
              "      <td>276.531946</td>\n",
              "      <td>0.984669</td>\n",
              "    </tr>\n",
              "    <tr>\n",
              "      <th>max</th>\n",
              "      <td>4686.000000</td>\n",
              "      <td>4686.000000</td>\n",
              "      <td>3.781897e+06</td>\n",
              "      <td>3.781897e+06</td>\n",
              "      <td>32.100000</td>\n",
              "      <td>15.579552</td>\n",
              "      <td>34.836938</td>\n",
              "      <td>15579.552413</td>\n",
              "      <td>34836.938254</td>\n",
              "      <td>9.680682</td>\n",
              "      <td>...</td>\n",
              "      <td>5.072008</td>\n",
              "      <td>75.406667</td>\n",
              "      <td>359.905890</td>\n",
              "      <td>4172.231343</td>\n",
              "      <td>1.299832</td>\n",
              "      <td>359.993098</td>\n",
              "      <td>8.983852</td>\n",
              "      <td>2.458839e+06</td>\n",
              "      <td>359.917991</td>\n",
              "      <td>2.039000</td>\n",
              "    </tr>\n",
              "  </tbody>\n",
              "</table>\n",
              "<p>8 rows × 37 columns</p>\n",
              "</div>\n",
              "      <button class=\"colab-df-convert\" onclick=\"convertToInteractive('df-68dace60-12f7-49a5-a243-12a3f016ac04')\"\n",
              "              title=\"Convert this dataframe to an interactive table.\"\n",
              "              style=\"display:none;\">\n",
              "        \n",
              "  <svg xmlns=\"http://www.w3.org/2000/svg\" height=\"24px\"viewBox=\"0 0 24 24\"\n",
              "       width=\"24px\">\n",
              "    <path d=\"M0 0h24v24H0V0z\" fill=\"none\"/>\n",
              "    <path d=\"M18.56 5.44l.94 2.06.94-2.06 2.06-.94-2.06-.94-.94-2.06-.94 2.06-2.06.94zm-11 1L8.5 8.5l.94-2.06 2.06-.94-2.06-.94L8.5 2.5l-.94 2.06-2.06.94zm10 10l.94 2.06.94-2.06 2.06-.94-2.06-.94-.94-2.06-.94 2.06-2.06.94z\"/><path d=\"M17.41 7.96l-1.37-1.37c-.4-.4-.92-.59-1.43-.59-.52 0-1.04.2-1.43.59L10.3 9.45l-7.72 7.72c-.78.78-.78 2.05 0 2.83L4 21.41c.39.39.9.59 1.41.59.51 0 1.02-.2 1.41-.59l7.78-7.78 2.81-2.81c.8-.78.8-2.07 0-2.86zM5.41 20L4 18.59l7.72-7.72 1.47 1.35L5.41 20z\"/>\n",
              "  </svg>\n",
              "      </button>\n",
              "      \n",
              "  <style>\n",
              "    .colab-df-container {\n",
              "      display:flex;\n",
              "      flex-wrap:wrap;\n",
              "      gap: 12px;\n",
              "    }\n",
              "\n",
              "    .colab-df-convert {\n",
              "      background-color: #E8F0FE;\n",
              "      border: none;\n",
              "      border-radius: 50%;\n",
              "      cursor: pointer;\n",
              "      display: none;\n",
              "      fill: #1967D2;\n",
              "      height: 32px;\n",
              "      padding: 0 0 0 0;\n",
              "      width: 32px;\n",
              "    }\n",
              "\n",
              "    .colab-df-convert:hover {\n",
              "      background-color: #E2EBFA;\n",
              "      box-shadow: 0px 1px 2px rgba(60, 64, 67, 0.3), 0px 1px 3px 1px rgba(60, 64, 67, 0.15);\n",
              "      fill: #174EA6;\n",
              "    }\n",
              "\n",
              "    [theme=dark] .colab-df-convert {\n",
              "      background-color: #3B4455;\n",
              "      fill: #D2E3FC;\n",
              "    }\n",
              "\n",
              "    [theme=dark] .colab-df-convert:hover {\n",
              "      background-color: #434B5C;\n",
              "      box-shadow: 0px 1px 3px 1px rgba(0, 0, 0, 0.15);\n",
              "      filter: drop-shadow(0px 1px 2px rgba(0, 0, 0, 0.3));\n",
              "      fill: #FFFFFF;\n",
              "    }\n",
              "  </style>\n",
              "\n",
              "      <script>\n",
              "        const buttonEl =\n",
              "          document.querySelector('#df-68dace60-12f7-49a5-a243-12a3f016ac04 button.colab-df-convert');\n",
              "        buttonEl.style.display =\n",
              "          google.colab.kernel.accessAllowed ? 'block' : 'none';\n",
              "\n",
              "        async function convertToInteractive(key) {\n",
              "          const element = document.querySelector('#df-68dace60-12f7-49a5-a243-12a3f016ac04');\n",
              "          const dataTable =\n",
              "            await google.colab.kernel.invokeFunction('convertToInteractive',\n",
              "                                                     [key], {});\n",
              "          if (!dataTable) return;\n",
              "\n",
              "          const docLinkHtml = 'Like what you see? Visit the ' +\n",
              "            '<a target=\"_blank\" href=https://colab.research.google.com/notebooks/data_table.ipynb>data table notebook</a>'\n",
              "            + ' to learn more about interactive tables.';\n",
              "          element.innerHTML = '';\n",
              "          dataTable['output_type'] = 'display_data';\n",
              "          await google.colab.output.renderOutput(dataTable, element);\n",
              "          const docLink = document.createElement('div');\n",
              "          docLink.innerHTML = docLinkHtml;\n",
              "          element.appendChild(docLink);\n",
              "        }\n",
              "      </script>\n",
              "    </div>\n",
              "  </div>\n",
              "  "
            ]
          },
          "metadata": {},
          "execution_count": 5
        }
      ]
    },
    {
      "cell_type": "markdown",
      "source": [
        "## Визуелно прикажете ги вредностите кои недостасуваат и корелацијата помеѓу истите\n",
        "\n",
        "<font color='yellow' size='3px'>\n",
        "ПРАШАЊЕ: Дали може да се донесе одреден заклучок од овие визуелизации?\n",
        "</font>"
      ],
      "metadata": {
        "id": "qQ3XYapzmRp_"
      }
    },
    {
      "cell_type": "markdown",
      "source": [
        "<font color='orange' size='3px'> Нема силна зависност помеѓу податоците што фалат во колоните\n",
        "</font>"
      ],
      "metadata": {
        "id": "LooeYcXbM5WC"
      }
    },
    {
      "cell_type": "code",
      "source": [
        "import missingno as msno\n",
        "msno.heatmap(df)"
      ],
      "metadata": {
        "id": "irXDWzG-mVXa",
        "outputId": "367a0927-c5ee-4f45-de1d-399f9354fe11",
        "colab": {
          "base_uri": "https://localhost:8080/",
          "height": 835
        }
      },
      "execution_count": null,
      "outputs": [
        {
          "output_type": "execute_result",
          "data": {
            "text/plain": [
              "<matplotlib.axes._subplots.AxesSubplot at 0x7fb517d7e410>"
            ]
          },
          "metadata": {},
          "execution_count": 6
        },
        {
          "output_type": "display_data",
          "data": {
            "text/plain": [
              "<Figure size 1440x864 with 2 Axes>"
            ],
            "image/png": "[encoded data removed]"
          },
          "metadata": {
            "needs_background": "light"
          }
        }
      ]
    },
    {
      "cell_type": "code",
      "source": [
        "msno.matrix(df.sort_values('Absolute Magnitude'))"
      ],
      "metadata": {
        "id": "GT5VSLnm3IFu",
        "outputId": "30324bdb-23da-44b5-fb0f-e07c897035f1",
        "colab": {
          "base_uri": "https://localhost:8080/",
          "height": 781
        }
      },
      "execution_count": null,
      "outputs": [
        {
          "output_type": "execute_result",
          "data": {
            "text/plain": [
              "<matplotlib.axes._subplots.AxesSubplot at 0x7fb5148519d0>"
            ]
          },
          "metadata": {},
          "execution_count": 8
        },
        {
          "output_type": "display_data",
          "data": {
            "text/plain": [
              "<Figure size 1800x720 with 2 Axes>"
            ],
            "image/png": "[encoded data removed]"
          },
          "metadata": {
            "needs_background": "light"
          }
        }
      ]
    },
    {
      "cell_type": "code",
      "source": [
        "df['Absolute Magnitude'].hist()"
      ],
      "metadata": {
        "colab": {
          "base_uri": "https://localhost:8080/",
          "height": 282
        },
        "id": "ATEGDBkg37yz",
        "outputId": "5f836b1b-806f-4419-9fcd-8459a85b6ff6"
      },
      "execution_count": null,
      "outputs": [
        {
          "output_type": "execute_result",
          "data": {
            "text/plain": [
              "<matplotlib.axes._subplots.AxesSubplot at 0x7fb5146cae90>"
            ]
          },
          "metadata": {},
          "execution_count": 9
        },
        {
          "output_type": "display_data",
          "data": {
            "text/plain": [
              "<Figure size 432x288 with 1 Axes>"
            ],
            "image/png": "[encoded data removed]"
          },
          "metadata": {
            "needs_background": "light"
          }
        }
      ]
    },
    {
      "cell_type": "code",
      "source": [
        "df['Asc Node Longitude'].hist()"
      ],
      "metadata": {
        "colab": {
          "base_uri": "https://localhost:8080/",
          "height": 282
        },
        "id": "HXMS-0tv4Axa",
        "outputId": "7d67d63b-f09e-4c2d-8122-505130a109cb"
      },
      "execution_count": null,
      "outputs": [
        {
          "output_type": "execute_result",
          "data": {
            "text/plain": [
              "<matplotlib.axes._subplots.AxesSubplot at 0x7fb512e43390>"
            ]
          },
          "metadata": {},
          "execution_count": 10
        },
        {
          "output_type": "display_data",
          "data": {
            "text/plain": [
              "<Figure size 432x288 with 1 Axes>"
            ],
            "image/png": "[encoded data removed]"
          },
          "metadata": {
            "needs_background": "light"
          }
        }
      ]
    },
    {
      "cell_type": "code",
      "source": [
        "df['Orbital Period'].hist()"
      ],
      "metadata": {
        "colab": {
          "base_uri": "https://localhost:8080/",
          "height": 282
        },
        "id": "1F5_iyYf4Gs6",
        "outputId": "74d95b8f-fe33-40d8-8d3b-6472ed14920f"
      },
      "execution_count": null,
      "outputs": [
        {
          "output_type": "execute_result",
          "data": {
            "text/plain": [
              "<matplotlib.axes._subplots.AxesSubplot at 0x7fb512c55650>"
            ]
          },
          "metadata": {},
          "execution_count": 12
        },
        {
          "output_type": "display_data",
          "data": {
            "text/plain": [
              "<Figure size 432x288 with 1 Axes>"
            ],
            "image/png": "[encoded data removed]"
          },
          "metadata": {
            "needs_background": "light"
          }
        }
      ]
    },
    {
      "cell_type": "code",
      "source": [
        "df['Perihelion Time'].hist()"
      ],
      "metadata": {
        "colab": {
          "base_uri": "https://localhost:8080/",
          "height": 295
        },
        "id": "5T4PE6mo4NvN",
        "outputId": "29f8f0bb-b8bf-4515-8c79-4784a59fe621"
      },
      "execution_count": null,
      "outputs": [
        {
          "output_type": "execute_result",
          "data": {
            "text/plain": [
              "<matplotlib.axes._subplots.AxesSubplot at 0x7fb512bd8b50>"
            ]
          },
          "metadata": {},
          "execution_count": 13
        },
        {
          "output_type": "display_data",
          "data": {
            "text/plain": [
              "<Figure size 432x288 with 1 Axes>"
            ],
            "image/png": "[encoded data removed]"
          },
          "metadata": {
            "needs_background": "light"
          }
        }
      ]
    },
    {
      "cell_type": "markdown",
      "source": [
        "## Справете се со вредностите кои недостасуваат\n",
        "\n",
        "<font color='yellow' size='3px'> ПРАШАЊЕ: На кој начин се справувате со вредностите кои недостасуваат? Зошто го избравте тој начин? </font>"
      ],
      "metadata": {
        "id": "tW9ha4_mMjHu"
      }
    },
    {
      "cell_type": "markdown",
      "source": [
        "<font color='orange' size='3px'> Absolute Magnitude следи нормална распределба па може да внесеме mean, за другите одлучив за MICE imputation бидејќи се покомплексни</font>"
      ],
      "metadata": {
        "id": "m2kNeocYktf7"
      }
    },
    {
      "cell_type": "code",
      "source": [
        "from sklearn.impute import SimpleImputer\n",
        "imputer = SimpleImputer(strategy='constant', fill_value=df['Absolute Magnitude'].mean())\n",
        "df['Absolute Magnitude'] = imputer.fit_transform(df['Absolute Magnitude'].to_numpy().reshape(1,-1))[0]"
      ],
      "metadata": {
        "id": "yCcuoqw-MjHv"
      },
      "execution_count": null,
      "outputs": []
    },
    {
      "cell_type": "code",
      "source": [
        "from sklearn.experimental import enable_iterative_imputer\n",
        "from sklearn.impute import IterativeImputer\n",
        "\n",
        "iterative_imputer = IterativeImputer(random_state=0)\n",
        "df['Asc Node Longitude'] = iterative_imputer.fit_transform(df['Asc Node Longitude'].to_numpy().reshape(-1, 1))\n",
        "\n",
        "iterative_imputer = IterativeImputer(random_state=0)\n",
        "df['Orbital Period'] = iterative_imputer.fit_transform(df['Orbital Period'].to_numpy().reshape(-1, 1))\n",
        "\n",
        "iterative_imputer = IterativeImputer(random_state=0)\n",
        "df['Perihelion Time'] = iterative_imputer.fit_transform(df['Perihelion Time'].to_numpy().reshape(-1, 1))"
      ],
      "metadata": {
        "id": "Hod3FoT35PyP"
      },
      "execution_count": null,
      "outputs": []
    },
    {
      "cell_type": "code",
      "source": [
        "df.isnull().sum()"
      ],
      "metadata": {
        "colab": {
          "base_uri": "https://localhost:8080/"
        },
        "id": "OYu_Pr9j5kfM",
        "outputId": "e6450bf5-05bc-4983-c079-a8203e58a2ed"
      },
      "execution_count": null,
      "outputs": [
        {
          "output_type": "execute_result",
          "data": {
            "text/plain": [
              "Unnamed: 0                      0\n",
              "Unnamed: 0.1                    0\n",
              "Neo Reference ID                0\n",
              "Name                            0\n",
              "Absolute Magnitude              0\n",
              "Est Dia in KM(min)              0\n",
              "Est Dia in KM(max)              0\n",
              "Est Dia in M(min)               0\n",
              "Est Dia in M(max)               0\n",
              "Est Dia in Miles(min)           0\n",
              "Est Dia in Miles(max)           0\n",
              "Est Dia in Feet(min)            0\n",
              "Est Dia in Feet(max)            0\n",
              "Epoch Date Close Approach       0\n",
              "Relative Velocity km per sec    0\n",
              "Relative Velocity km per hr     0\n",
              "Miles per hour                  0\n",
              "Miss Dist.(Astronomical)        0\n",
              "Miss Dist.(lunar)               0\n",
              "Miss Dist.(kilometers)          0\n",
              "Miss Dist.(miles)               0\n",
              "Orbit ID                        0\n",
              "Orbit Uncertainity              0\n",
              "Minimum Orbit Intersection      0\n",
              "Jupiter Tisserand Invariant     0\n",
              "Epoch Osculation                0\n",
              "Eccentricity                    0\n",
              "Semi Major Axis                 0\n",
              "Inclination                     0\n",
              "Asc Node Longitude              0\n",
              "Orbital Period                  0\n",
              "Perihelion Distance             0\n",
              "Perihelion Arg                  0\n",
              "Aphelion Dist                   0\n",
              "Perihelion Time                 0\n",
              "Mean Anomaly                    0\n",
              "Mean Motion                     0\n",
              "Hazardous                       0\n",
              "dtype: int64"
            ]
          },
          "metadata": {},
          "execution_count": 22
        }
      ]
    },
    {
      "cell_type": "markdown",
      "source": [
        "## Одредете кои ќе ви бидат влезни податоци"
      ],
      "metadata": {
        "id": "4Y8Gsl4JmFPI"
      }
    },
    {
      "cell_type": "markdown",
      "source": [
        "првите 4 колони не се потребни бидејќи се ид или имиња"
      ],
      "metadata": {
        "id": "jTtQHllo5r7v"
      }
    },
    {
      "cell_type": "code",
      "source": [
        "df = df.drop(columns=['Unnamed: 0', 'Unnamed: 0.1', 'Neo Reference ID', 'Name'])"
      ],
      "metadata": {
        "id": "fCjqCna5mC4I"
      },
      "execution_count": null,
      "outputs": []
    },
    {
      "cell_type": "markdown",
      "source": [
        "## Поделете го податочното множество на две множества: за тренирање и тестирање"
      ],
      "metadata": {
        "id": "Cj9E2EVNl4a0"
      }
    },
    {
      "cell_type": "code",
      "source": [
        "from sklearn.model_selection import train_test_split\n",
        "X_train, X_test, Y_train, Y_test = train_test_split(df[df.columns[:-1]],  df['Hazardous'], test_size=0.2)"
      ],
      "metadata": {
        "id": "l4fU-v9FmM6a"
      },
      "execution_count": null,
      "outputs": []
    },
    {
      "cell_type": "markdown",
      "source": [
        "## Изградете модел и тренирајте го"
      ],
      "metadata": {
        "id": "x5OTF6wjmar8"
      }
    },
    {
      "cell_type": "code",
      "source": [
        "from sklearn.neighbors import KNeighborsClassifier\n",
        "classifier = KNeighborsClassifier(n_neighbors=5)\n",
        "classifier.fit(X_train, Y_train)"
      ],
      "metadata": {
        "id": "tDIjglGrmeb4",
        "colab": {
          "base_uri": "https://localhost:8080/"
        },
        "outputId": "9752c4fe-aff9-4bbb-fce7-1d1b55f347b8"
      },
      "execution_count": null,
      "outputs": [
        {
          "output_type": "execute_result",
          "data": {
            "text/plain": [
              "KNeighborsClassifier()"
            ]
          },
          "metadata": {},
          "execution_count": 25
        }
      ]
    },
    {
      "cell_type": "code",
      "source": [
        "Y_pred = classifier.predict(X_test)"
      ],
      "metadata": {
        "id": "6jaTOZ5A6hwq"
      },
      "execution_count": null,
      "outputs": []
    },
    {
      "cell_type": "markdown",
      "source": [
        "## Тестирајте го моделот со помош на соодветни метрики за евалуација (изберете барем 3 метрики)\n",
        "\n",
        "\n",
        "<font color='yellow' size='3px'>\n",
        "ПРАШАЊЕ: Какви вредности добивте за соодветните метрики? (Објаснете го значењето на таквите вредности!)\n",
        "\n",
        "ПРАШАЊЕ: Како би добиле подобри резултати, односно кои би биле можни подобрувања?\n",
        "</font>"
      ],
      "metadata": {
        "id": "OX8dpQ5vmfRA"
      }
    },
    {
      "cell_type": "markdown",
      "source": [
        "<font color='orange' size='3px'> f1 score е лош за True вредноста од таргет колоната. Тоа е веројатно бидејќи има скоро 5 пати повеќе False класи од True. Може да drop редици така што овие класи би биле еднакво застапени. Исто така може да се подобри моделот со тоа што ке се скалираат некои колони кои немаат нормална распределба. Пример колоната Asc Node Longitude\n",
        "\n",
        "Солиден r^2 за тестирачкото множество</font>"
      ],
      "metadata": {
        "id": "a0CHAqtUkwfM"
      }
    },
    {
      "cell_type": "code",
      "source": [
        "from sklearn.metrics import confusion_matrix, f1_score, classification_report"
      ],
      "metadata": {
        "id": "kaVTPwrPmk6o"
      },
      "execution_count": null,
      "outputs": []
    },
    {
      "cell_type": "code",
      "source": [
        "# r^2 so treniracko\n",
        "classifier.score(X_train, Y_train)"
      ],
      "metadata": {
        "colab": {
          "base_uri": "https://localhost:8080/"
        },
        "id": "DXB0Pu-B6zUY",
        "outputId": "89e5a77b-b451-4c23-8167-55425e40a8d0"
      },
      "execution_count": null,
      "outputs": [
        {
          "output_type": "execute_result",
          "data": {
            "text/plain": [
              "0.8530274739930648"
            ]
          },
          "metadata": {},
          "execution_count": 30
        }
      ]
    },
    {
      "cell_type": "code",
      "source": [
        "# r^2 so testiracko\n",
        "classifier.score(X_test, Y_test)"
      ],
      "metadata": {
        "colab": {
          "base_uri": "https://localhost:8080/"
        },
        "id": "Agvmjnqp68eh",
        "outputId": "d7cf874d-f10a-420e-de1e-aaee6a7882d6"
      },
      "execution_count": null,
      "outputs": [
        {
          "output_type": "execute_result",
          "data": {
            "text/plain": [
              "0.7985074626865671"
            ]
          },
          "metadata": {},
          "execution_count": 31
        }
      ]
    },
    {
      "cell_type": "code",
      "source": [
        "print(confusion_matrix(Y_test, Y_pred))"
      ],
      "metadata": {
        "colab": {
          "base_uri": "https://localhost:8080/"
        },
        "id": "TZCA2qpE7EAE",
        "outputId": "d18eef2e-e1ec-490b-8a7e-ff8dde1c4573"
      },
      "execution_count": null,
      "outputs": [
        {
          "output_type": "stream",
          "name": "stdout",
          "text": [
            "[[740  38]\n",
            " [151   9]]\n"
          ]
        }
      ]
    },
    {
      "cell_type": "code",
      "source": [
        "print(classification_report(Y_test, Y_pred))"
      ],
      "metadata": {
        "colab": {
          "base_uri": "https://localhost:8080/"
        },
        "id": "M4p2b2CU7Muu",
        "outputId": "0a780255-4810-4d3d-c81a-6b4e569125c2"
      },
      "execution_count": null,
      "outputs": [
        {
          "output_type": "stream",
          "name": "stdout",
          "text": [
            "              precision    recall  f1-score   support\n",
            "\n",
            "       False       0.83      0.95      0.89       778\n",
            "        True       0.19      0.06      0.09       160\n",
            "\n",
            "    accuracy                           0.80       938\n",
            "   macro avg       0.51      0.50      0.49       938\n",
            "weighted avg       0.72      0.80      0.75       938\n",
            "\n"
          ]
        }
      ]
    },
    {
      "cell_type": "code",
      "source": [
        "print(f1_score(Y_test, Y_pred))"
      ],
      "metadata": {
        "colab": {
          "base_uri": "https://localhost:8080/"
        },
        "id": "kD-omHQD7Pky",
        "outputId": "85a6433d-4599-4d12-a3c0-95e5fde4a78a"
      },
      "execution_count": null,
      "outputs": [
        {
          "output_type": "stream",
          "name": "stdout",
          "text": [
            "0.08695652173913043\n"
          ]
        }
      ]
    },
    {
      "cell_type": "code",
      "source": [
        "df['Hazardous'].value_counts()"
      ],
      "metadata": {
        "colab": {
          "base_uri": "https://localhost:8080/"
        },
        "id": "iSboaaSz7Vrq",
        "outputId": "5c971314-47eb-4e57-f589-7b54c0559c67"
      },
      "execution_count": null,
      "outputs": [
        {
          "output_type": "execute_result",
          "data": {
            "text/plain": [
              "False    3932\n",
              "True      755\n",
              "Name: Hazardous, dtype: int64"
            ]
          },
          "metadata": {},
          "execution_count": 37
        }
      ]
    }
  ]
}